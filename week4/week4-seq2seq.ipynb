{
 "cells": [
  {
   "cell_type": "markdown",
   "metadata": {},
   "source": [
    "# Learn to calculate with seq2seq model\n",
    "\n",
    "In this assignment, you will learn how to use neural networks to solve sequence-to-sequence prediction tasks. Seq2Seq models are very popular these days because they achieve great results in Machine Translation, Text Summarization, Conversational Modeling and more.\n",
    "\n",
    "Using sequence-to-sequence modeling you are going to build a calculator for evaluating arithmetic expressions, by taking an equation as an input to the neural network and producing an answer as it's output.\n",
    "\n",
    "The resulting solution for this problem will be based on state-of-the-art approaches for sequence-to-sequence learning and you should be able to easily adapt it to solve other tasks. However, if you want to train your own machine translation system or intellectual chat bot, it would be useful to have access to compute resources like GPU, and be patient, because training of such systems is usually time consuming. \n",
    "\n",
    "### Libraries\n",
    "\n",
    "For this task you will need the following libraries:\n",
    " - [TensorFlow](https://www.tensorflow.org) — an open-source software library for Machine Intelligence.\n",
    " - [scikit-learn](http://scikit-learn.org/stable/index.html) — a tool for data mining and data analysis.\n",
    " \n",
    "If you have never worked with TensorFlow, you will probably want to read some tutorials during your work on this assignment, e.g. [Neural Machine Translation](https://www.tensorflow.org/tutorials/seq2seq) tutorial deals with very similar task and can explain some concepts to you. "
   ]
  },
  {
   "cell_type": "markdown",
   "metadata": {},
   "source": [
    "### Data\n",
    "\n",
    "One benefit of this task is that you don't need to download any data — you will generate it on your own! We will use two operators (addition and subtraction) and work with positive integer numbers in some range. Here are examples of correct inputs and outputs:\n",
    "\n",
    "    Input: '1+2'\n",
    "    Output: '3'\n",
    "    \n",
    "    Input: '0-99'\n",
    "    Output: '-99'\n",
    "\n",
    "*Note, that there are no spaces between operators and operands.*\n",
    "\n",
    "\n",
    "Now you need to implement the function *generate_equations*, which will be used to generate the data."
   ]
  },
  {
   "cell_type": "code",
   "execution_count": 50,
   "metadata": {
    "collapsed": true
   },
   "outputs": [],
   "source": [
    "import random\n",
    "import re"
   ]
  },
  {
   "cell_type": "code",
   "execution_count": 3,
   "metadata": {
    "collapsed": true
   },
   "outputs": [],
   "source": [
    "def generate_equations(allowed_operators, dataset_size, min_value, max_value):\n",
    "    \"\"\"Generates pairs of equations and solutions to them.\n",
    "    \n",
    "       Each equation has a form of two integers with an operator in between.\n",
    "       Each solution is an integer with the result of the operaion.\n",
    "    \n",
    "        allowed_operators: list of strings, allowed operators.\n",
    "        dataset_size: an integer, number of equations to be generated.\n",
    "        min_value: an integer, min value of each operand.\n",
    "        min_value: an integer, max value of each operand.\n",
    "\n",
    "        result: a list of tuples of strings (equation, solution).\n",
    "    \"\"\"\n",
    "    sample = []\n",
    "\n",
    "    for _ in range(dataset_size):\n",
    "        firstOperand = str(random.randint(min_value,max_value))\n",
    "        secondOperand = str(random.randint(min_value,max_value))\n",
    "        operator = random.choice(allowed_operators)\n",
    "        lhs = firstOperand+operator+secondOperand\n",
    "        rhs = str(eval(lhs))\n",
    "        sample.append((lhs,rhs))\n",
    "        ######################################\n",
    "        ######### YOUR CODE HERE #############\n",
    "        ######################################\n",
    "    return sample"
   ]
  },
  {
   "cell_type": "markdown",
   "metadata": {},
   "source": [
    "To check the corectness of your implementation, use *test_generate_equations* function:"
   ]
  },
  {
   "cell_type": "code",
   "execution_count": 4,
   "metadata": {
    "collapsed": true
   },
   "outputs": [],
   "source": [
    "def test_generate_equations():\n",
    "    allowed_operators = ['+', '-']\n",
    "    dataset_size = 10\n",
    "    for (input_, output_) in generate_equations(allowed_operators, dataset_size, 0, 100):\n",
    "        if not (type(input_) is str and type(output_) is str):\n",
    "            return \"Both parts should be strings.\"\n",
    "        if eval(input_) != int(output_):\n",
    "            return \"The (equation: {!r}, solution: {!r}) pair is incorrect.\".format(input_, output_)\n",
    "    return \"Tests passed.\""
   ]
  },
  {
   "cell_type": "code",
   "execution_count": 5,
   "metadata": {
    "collapsed": true
   },
   "outputs": [
    {
     "name": "stdout",
     "output_type": "stream",
     "text": [
      "Tests passed.\n"
     ]
    }
   ],
   "source": [
    "print(test_generate_equations())"
   ]
  },
  {
   "cell_type": "markdown",
   "metadata": {},
   "source": [
    "Finally, we are ready to generate the train and test data for the neural network:"
   ]
  },
  {
   "cell_type": "code",
   "execution_count": 6,
   "metadata": {
    "collapsed": true
   },
   "outputs": [],
   "source": [
    "from sklearn.model_selection import train_test_split"
   ]
  },
  {
   "cell_type": "code",
   "execution_count": 7,
   "metadata": {
    "collapsed": true
   },
   "outputs": [],
   "source": [
    "allowed_operators = ['+', '-']\n",
    "dataset_size = 100000\n",
    "data = generate_equations(allowed_operators, dataset_size, min_value=0, max_value=9999)\n",
    "\n",
    "train_set, test_set = train_test_split(data, test_size=0.2, random_state=42)"
   ]
  },
  {
   "cell_type": "markdown",
   "metadata": {},
   "source": [
    "## Prepare data for the neural network\n",
    "\n",
    "The next stage of data preparation is creating mappings of the characters to their indices in some vocabulary. Since in our task we already know which symbols will appear in the inputs and outputs, generating the vocabulary is a simple step.\n",
    "\n",
    "#### How to create dictionaries for other task\n",
    "\n",
    "First of all, you need to understand what is the basic unit of the sequence in your task. In our case, we operate on symbols and the basic unit is a symbol. A number of symbols is small, so we don't need to think about filtering/normalization steps. However, in other task, the basic unit is often a word, and in this case the mapping would be *word $\\to$ integer*. A number of words might be huge, so it would be reasonable to filter them, for example, by frequency and leave only the frequent ones. Other strategies that your should consider are: data normalization (lowercasing, tokenization, how to consider punctuation marks), separate vocabulary for input and for output (e.g. for machine translation), some specifics of the task."
   ]
  },
  {
   "cell_type": "code",
   "execution_count": 8,
   "metadata": {
    "collapsed": true
   },
   "outputs": [],
   "source": [
    "word2id = {symbol:i for i, symbol in enumerate('^$#+-1234567890')}\n",
    "id2word = {i:symbol for symbol, i in word2id.items()}"
   ]
  },
  {
   "cell_type": "markdown",
   "metadata": {},
   "source": [
    "#### Special symbols"
   ]
  },
  {
   "cell_type": "code",
   "execution_count": 9,
   "metadata": {
    "collapsed": true
   },
   "outputs": [],
   "source": [
    "start_symbol = '^'\n",
    "end_symbol = '$'\n",
    "padding_symbol = '#'"
   ]
  },
  {
   "cell_type": "markdown",
   "metadata": {},
   "source": [
    "You could notice that we have added 3 special symbols: '^', '\\$' and '#':\n",
    "- '^' symbol will be passed to the network to indicate the beginning of the decoding procedure. We will discuss this one later in more details.\n",
    "- '\\$' symbol will be used to indicate the *end of a string*, both for input and output sequences. \n",
    "- '#' symbol will be used as a *padding* character to make lengths of all strings equal within one training batch.\n",
    "\n",
    "People have a bit different habits when it comes to special symbols in encoder-decoder networks, so don't get too much confused if you come across other variants in tutorials you read. "
   ]
  },
  {
   "cell_type": "markdown",
   "metadata": {},
   "source": [
    "#### Padding"
   ]
  },
  {
   "cell_type": "markdown",
   "metadata": {},
   "source": [
    "When vocabularies are ready, we need to be able to convert a sentence to a list of vocabulary word indices and back. At the same time, let's care about padding. We are going to preprocess each sequence from the input (and output ground truth) in such a way that:\n",
    "- it has a predefined length *padded_len*\n",
    "- it is probably cut off or padded with the *padding symbol* '#'\n",
    "- it *always* ends with the *end symbol* '$'\n",
    "\n",
    "We will treat the original characters of the sequence **and the end symbol** as the valid part of the input. We will store *the actual length* of the sequence, which includes the end symbol, but does not include the padding symbols. "
   ]
  },
  {
   "cell_type": "markdown",
   "metadata": {},
   "source": [
    " Now you need to implement the function *sentence_to_ids* that does the described job. "
   ]
  },
  {
   "cell_type": "code",
   "execution_count": 10,
   "metadata": {
    "collapsed": true
   },
   "outputs": [],
   "source": [
    "def sentence_to_ids(sentence, word2id, padded_len):\n",
    "    \"\"\" Converts a sequence of symbols to a padded sequence of their ids.\n",
    "    \n",
    "      sentence: a string, input/output sequence of symbols.\n",
    "      word2id: a dict, a mapping from original symbols to ids.\n",
    "      padded_len: an integer, a desirable length of the sequence.\n",
    "\n",
    "      result: a tuple of (a list of ids, an actual length of sentence).\n",
    "    \"\"\"\n",
    "    \n",
    "    \n",
    "    senLen = len(sentence)\n",
    "    sent_ids = []\n",
    "    for i in range(padded_len):\n",
    "        if i < senLen:\n",
    "            sent_ids.append(word2id[sentence[i]])\n",
    "        if i == senLen:\n",
    "            sent_ids.append(word2id['$'])\n",
    "        if i > senLen:\n",
    "            sent_ids.append(word2id['#'])\n",
    "    if senLen >= padded_len:\n",
    "        sent_ids[padded_len-1]=word2id['$']\n",
    "        sent_len = padded_len\n",
    "    else:\n",
    "        sent_len = senLen+1\n",
    "   \n",
    "    return sent_ids, sent_len"
   ]
  },
  {
   "cell_type": "code",
   "execution_count": null,
   "metadata": {},
   "outputs": [],
   "source": []
  },
  {
   "cell_type": "markdown",
   "metadata": {},
   "source": [
    "Check that your implementation is correct:"
   ]
  },
  {
   "cell_type": "code",
   "execution_count": 11,
   "metadata": {
    "collapsed": true
   },
   "outputs": [],
   "source": [
    "def test_sentence_to_ids():\n",
    "    sentences = [(\"123+123\", 7), (\"123+123\", 8), (\"123+123\", 10)]\n",
    "    expected_output = [([5, 6, 7, 3, 5, 6, 1], 7), \n",
    "                       ([5, 6, 7, 3, 5, 6, 7, 1], 8), \n",
    "                       ([5, 6, 7, 3, 5, 6, 7, 1, 2, 2], 8)] \n",
    "    for (sentence, padded_len), (sentence_ids, expected_length) in zip(sentences, expected_output):\n",
    "        output, length = sentence_to_ids(sentence, word2id, padded_len)\n",
    "        if output != sentence_ids:\n",
    "            return(\"Convertion of '{}' for padded_len={} to {} is incorrect.\".format(\n",
    "                sentence, padded_len, output))\n",
    "        if length != expected_length:\n",
    "            return(\"Convertion of '{}' for padded_len={} has incorrect actual length {}.\".format(\n",
    "                sentence, padded_len, length))\n",
    "    return(\"Tests passed.\")"
   ]
  },
  {
   "cell_type": "code",
   "execution_count": 12,
   "metadata": {
    "collapsed": true
   },
   "outputs": [
    {
     "name": "stdout",
     "output_type": "stream",
     "text": [
      "Tests passed.\n"
     ]
    }
   ],
   "source": [
    "print(test_sentence_to_ids())"
   ]
  },
  {
   "cell_type": "markdown",
   "metadata": {},
   "source": [
    "We also need to be able to get back from indices to symbols:"
   ]
  },
  {
   "cell_type": "code",
   "execution_count": 13,
   "metadata": {
    "collapsed": true
   },
   "outputs": [],
   "source": [
    "def ids_to_sentence(ids, id2word):\n",
    "    \"\"\" Converts a sequence of ids to a sequence of symbols.\n",
    "    \n",
    "          ids: a list, indices for the padded sequence.\n",
    "          id2word:  a dict, a mapping from ids to original symbols.\n",
    "\n",
    "          result: a list of symbols.\n",
    "    \"\"\"\n",
    " \n",
    "    return [id2word[i] for i in ids] "
   ]
  },
  {
   "cell_type": "markdown",
   "metadata": {},
   "source": [
    "#### Generating batches"
   ]
  },
  {
   "cell_type": "markdown",
   "metadata": {},
   "source": [
    "The final step of data preparation is a function that transforms a batch of sentences to a list of lists of indices. "
   ]
  },
  {
   "cell_type": "code",
   "execution_count": 14,
   "metadata": {
    "collapsed": true
   },
   "outputs": [],
   "source": [
    "def batch_to_ids(sentences, word2id, max_len):\n",
    "    \"\"\"Prepares batches of indices. \n",
    "    \n",
    "       Sequences are padded to match the longest sequence in the batch,\n",
    "       if it's longer than max_len, then max_len is used instead.\n",
    "\n",
    "        sentences: a list of strings, original sequences.\n",
    "        word2id: a dict, a mapping from original symbols to ids.\n",
    "        max_len: an integer, max len of sequences allowed.\n",
    "\n",
    "        result: a list of lists of ids, a list of actual lengths.\n",
    "    \"\"\"\n",
    "    \n",
    "    max_len_in_batch = min(max(len(s) for s in sentences) + 1, max_len)\n",
    "    batch_ids, batch_ids_len = [], []\n",
    "    for sentence in sentences:\n",
    "        ids, ids_len = sentence_to_ids(sentence, word2id, max_len_in_batch)\n",
    "        batch_ids.append(ids)\n",
    "        batch_ids_len.append(ids_len)\n",
    "    return batch_ids, batch_ids_len"
   ]
  },
  {
   "cell_type": "markdown",
   "metadata": {},
   "source": [
    "The function *generate_batches* will help to generate batches with defined size from given samples."
   ]
  },
  {
   "cell_type": "code",
   "execution_count": 15,
   "metadata": {
    "collapsed": true
   },
   "outputs": [],
   "source": [
    "def generate_batches(samples, batch_size=64):\n",
    "    X, Y = [], []\n",
    "    for i, (x, y) in enumerate(samples, 1):\n",
    "        X.append(x)\n",
    "        Y.append(y)\n",
    "        if i % batch_size == 0:\n",
    "            yield X, Y\n",
    "            X, Y = [], []\n",
    "    if X and Y:\n",
    "        yield X, Y"
   ]
  },
  {
   "cell_type": "markdown",
   "metadata": {},
   "source": [
    "To illustrate the result of the implemented functions, run the following cell:"
   ]
  },
  {
   "cell_type": "code",
   "execution_count": 16,
   "metadata": {
    "collapsed": true
   },
   "outputs": [
    {
     "name": "stdout",
     "output_type": "stream",
     "text": [
      "Input: ('6387+2856', '9243')\n",
      "Ids: [[10, 7, 12, 11, 3, 6, 12, 9, 10, 1], [13, 6, 8, 7, 1, 2, 2, 2, 2, 2]]\n",
      "Sentences lengths: [10, 5]\n"
     ]
    }
   ],
   "source": [
    "sentences = train_set[0]\n",
    "ids, sent_lens = batch_to_ids(sentences, word2id, max_len=10)\n",
    "print('Input:', sentences)\n",
    "print('Ids: {}\\nSentences lengths: {}'.format(ids, sent_lens))"
   ]
  },
  {
   "cell_type": "markdown",
   "metadata": {},
   "source": [
    "## Encoder-Decoder architecture\n",
    "\n",
    "Encoder-Decoder is a successful architecture for Seq2Seq tasks with different lengths of input and output sequences. The main idea is to use two recurrent neural networks, where the first neural network *encodes* the input sequence into a real-valued vector and then the second neural network *decodes* this vector into the output sequence. While building the neural network, we will specify some particular characteristics of this architecture."
   ]
  },
  {
   "cell_type": "code",
   "execution_count": 17,
   "metadata": {
    "collapsed": true
   },
   "outputs": [],
   "source": [
    "import tensorflow as tf"
   ]
  },
  {
   "cell_type": "markdown",
   "metadata": {},
   "source": [
    "Let us use TensorFlow building blocks to specify the network architecture."
   ]
  },
  {
   "cell_type": "code",
   "execution_count": 18,
   "metadata": {
    "collapsed": true
   },
   "outputs": [],
   "source": [
    "class Seq2SeqModel(object):\n",
    "    pass"
   ]
  },
  {
   "cell_type": "markdown",
   "metadata": {},
   "source": [
    "First, we need to create [placeholders](https://www.tensorflow.org/api_guides/python/io_ops#Placeholders) to specify what data we are going to feed into the network during the exectution time. For this task we will need:\n",
    " - *input_batch* — sequences of sentences (the shape equals to [batch_size, max_sequence_len_in_batch]);\n",
    " - *input_batch_lengths* — lengths of not padded sequences (the shape equals to [batch_size]);\n",
    " - *ground_truth* — sequences of sentences (the shape equals to [batch_size, max_sequence_len_in_batch]);\n",
    " - *ground_truth_lengths* — lengths of not padded sequences (the shape equals to [batch_size]);\n",
    " - *dropout_ph* — dropout keep probability; this placeholder has a predifined value 1;\n",
    " - *learning_rate_ph* — learning rate."
   ]
  },
  {
   "cell_type": "code",
   "execution_count": 77,
   "metadata": {
    "collapsed": true
   },
   "outputs": [],
   "source": [
    "def declare_placeholders(self):\n",
    "    \"\"\"Specifies placeholders for the model.\"\"\"\n",
    "    \n",
    "    # Placeholders for input and its actual lengths.\n",
    "    self.input_batch = tf.placeholder(shape=(None, None), dtype=tf.int32, name='input_batch')\n",
    "    self.input_batch_lengths = tf.placeholder(shape=(None, ), dtype=tf.int32, name='input_batch_lengths')\n",
    "    \n",
    "    # Placeholders for groundtruth and its actual lengths.\n",
    "    self.ground_truth = tf.placeholder(shape=(None, None), dtype=tf.int32, name='ground_truth')######### YOUR CODE HERE #############\n",
    "    self.ground_truth_lengths = tf.placeholder(shape=(None, ), dtype=tf.int32, name='ground_truth_lengths')######### YOUR CODE HERE #############\n",
    "        \n",
    "    self.dropout_ph = tf.placeholder_with_default(1.0, shape=[])\n",
    "    self.learning_rate_ph = tf.placeholder(shape=[],dtype=tf.float32)"
   ]
  },
  {
   "cell_type": "code",
   "execution_count": 78,
   "metadata": {
    "collapsed": true
   },
   "outputs": [],
   "source": [
    "Seq2SeqModel.__declare_placeholders = classmethod(declare_placeholders)"
   ]
  },
  {
   "cell_type": "markdown",
   "metadata": {},
   "source": [
    "Now, let us specify the layers of the neural network. First, we need to prepare an embedding matrix. Since we use the same vocabulary for input and output, we need only one such matrix. For tasks with different vocabularies there would be multiple embedding layers.\n",
    "- Create embeddings matrix with [tf.Variable](https://www.tensorflow.org/api_docs/python/tf/Variable). Specify its name, type (tf.float32), and initialize with random values.\n",
    "- Perform [embeddings lookup](https://www.tensorflow.org/api_docs/python/tf/nn/embedding_lookup) for a given input batch."
   ]
  },
  {
   "cell_type": "code",
   "execution_count": 79,
   "metadata": {
    "collapsed": true
   },
   "outputs": [],
   "source": [
    "def create_embeddings(self, vocab_size, embeddings_size):\n",
    "    \"\"\"Specifies embeddings layer and embeds an input batch.\"\"\"\n",
    "     \n",
    "    random_initializer = tf.random_uniform((vocab_size, embeddings_size), -1.0, 1.0)\n",
    "    self.embeddings =tf.Variable(random_initializer,dtype=tf.float32,name=\"embeddings\")\n",
    "    \n",
    "    # Perform embeddings lookup for self.input_batch. \n",
    "    self.input_batch_embedded = tf.nn.embedding_lookup(self.embeddings,self.input_batch)######### YOUR CODE HERE ############# "
   ]
  },
  {
   "cell_type": "code",
   "execution_count": 80,
   "metadata": {
    "collapsed": true
   },
   "outputs": [],
   "source": [
    "Seq2SeqModel.__create_embeddings = classmethod(create_embeddings)"
   ]
  },
  {
   "cell_type": "markdown",
   "metadata": {},
   "source": [
    "#### Encoder\n",
    "\n",
    "The first RNN of the current architecture is called an *encoder* and serves for encoding an input sequence to a real-valued vector. Input of this RNN is an embedded input batch. Since sentences in the same batch could have different actual lengths, we also provide input lengths to avoid unnecessary computations. The final encoder state will be passed to the second RNN (decoder), which we will create soon. \n",
    "\n",
    "- TensorFlow provides a number of [RNN cells](https://www.tensorflow.org/api_guides/python/contrib.rnn#Core_RNN_Cells_for_use_with_TensorFlow_s_core_RNN_methods) ready for use. We suggest that you use [GRU cell](https://www.tensorflow.org/api_docs/python/tf/contrib/rnn/GRUCell), but you can also experiment with other types. \n",
    "- Wrap your cells with [DropoutWrapper](https://www.tensorflow.org/api_docs/python/tf/contrib/rnn/DropoutWrapper). Dropout is an important regularization technique for neural networks. Specify input keep probability using the dropout placeholder that we created before.\n",
    "- Combine the defined encoder cells with [Dynamic RNN](https://www.tensorflow.org/api_docs/python/tf/nn/dynamic_rnn). Use the embedded input batches and their lengths here.\n",
    "- Use *dtype=tf.float32* everywhere."
   ]
  },
  {
   "cell_type": "code",
   "execution_count": 81,
   "metadata": {
    "collapsed": true
   },
   "outputs": [],
   "source": [
    "def build_encoder(self, hidden_size):\n",
    "    \"\"\"Specifies encoder architecture and computes its output.\"\"\"\n",
    "    \n",
    "    # Create GRUCell with dropout.\n",
    "    encoder_cell = tf.nn.rnn_cell.GRUCell(hidden_size) ######### YOUR CODE HERE #############\n",
    "    encoder_cell = tf.nn.rnn_cell.DropoutWrapper(encoder_cell, self.dropout_ph)\n",
    "    # Create RNN with the predefined cell.\n",
    "    _, self.final_encoder_state =tf.nn.dynamic_rnn(encoder_cell,self.input_batch_embedded,dtype=tf.float32) ######### YOUR CODE HERE #############"
   ]
  },
  {
   "cell_type": "code",
   "execution_count": 82,
   "metadata": {
    "collapsed": true
   },
   "outputs": [],
   "source": [
    "Seq2SeqModel.__build_encoder = classmethod(build_encoder)"
   ]
  },
  {
   "cell_type": "markdown",
   "metadata": {},
   "source": [
    "#### Decoder\n",
    "\n",
    "The second RNN is called a *decoder* and serves for generating the output sequence. In the simple seq2seq arcitecture, the input sequence is provided to the decoder only as the final state of the encoder. Obviously, it is a bottleneck and [Attention techniques](https://www.tensorflow.org/tutorials/seq2seq#background_on_the_attention_mechanism) can help to overcome it. So far, we do not need them to make our calculator work, but this would be a necessary ingredient for more advanced tasks. \n",
    "\n",
    "During training, decoder also uses information about the true output. It is feeded in as input symbol by symbol. However, during the prediction stage (which is called *inference* in this architecture), the decoder can only use it's own generated output from the previous step to feed it in at the next step. Because of this difference (*training* vs *inference*), we will create two distinct instances, which will serve for the described scenarios.\n",
    "\n",
    "The picture below illustrates the point. It also shows our work with the special characters, e.g. look how the start symbol `^` is used. The transparent parts are ignored. In decoder, it is masked out in the loss computation. In encoder, the green state is considered as final and passed to the decoder. "
   ]
  },
  {
   "cell_type": "markdown",
   "metadata": {},
   "source": [
    "<img src=\"encoder-decoder-pic.png\" style=\"width: 500px;\">"
   ]
  },
  {
   "cell_type": "markdown",
   "metadata": {},
   "source": [
    "Now, it's time to implement the decoder:\n",
    " - First, we should create two [helpers](https://www.tensorflow.org/api_guides/python/contrib.seq2seq#Dynamic_Decoding). These classes help to determine the benaviour of the decoder. During the training time, we will use [TrainingHelper](https://www.tensorflow.org/api_docs/python/tf/contrib/seq2seq/TrainingHelper). For the inference we recommend to use [GreedyEmbeddingHelper](https://www.tensorflow.org/api_docs/python/tf/contrib/seq2seq/GreedyEmbeddingHelper).\n",
    " - To share all parameters during training and inference, we use one scope and set the flag 'reuse' to True at inference time. You might be interested to know more about how [variable scopes](https://www.tensorflow.org/programmers_guide/variables) work in TF. \n",
    " - To create the decoder itself, we will use [BasicDecoder](https://www.tensorflow.org/api_docs/python/tf/contrib/seq2seq/BasicDecoder) class. As previously, you should choose some RNN cell, e.g. GRU cell. To turn hidden states into logits, we will need a projection layer. One of the simple solutions is using [OutputProjectionWrapper](https://www.tensorflow.org/api_docs/python/tf/contrib/rnn/OutputProjectionWrapper).\n",
    " - For getting the predictions, it will be convinient to use [dynamic_decode](https://www.tensorflow.org/api_docs/python/tf/contrib/seq2seq/dynamic_decode). This function uses the provided decoder to perform decoding."
   ]
  },
  {
   "cell_type": "code",
   "execution_count": 97,
   "metadata": {
    "collapsed": true
   },
   "outputs": [],
   "source": [
    "def build_decoder(self, hidden_size, vocab_size, max_iter, start_symbol_id, end_symbol_id):\n",
    "    \"\"\"Specifies decoder architecture and computes the output.\n",
    "    \n",
    "        Uses different helpers:\n",
    "          - for train: feeding ground truth\n",
    "          - for inference: feeding generated output\n",
    "\n",
    "        As a result, self.train_outputs and self.infer_outputs are created. \n",
    "        Each of them contains two fields:\n",
    "          rnn_output (predicted logits)\n",
    "          sample_id (predictions).\n",
    "\n",
    "    \"\"\"\n",
    "    \n",
    "    # Use start symbols as the decoder inputs at the first time step.\n",
    "    batch_size = tf.shape(self.input_batch)[0]\n",
    "    start_tokens = tf.fill([batch_size], start_symbol_id)\n",
    "    ground_truth_as_input = tf.concat([tf.expand_dims(start_tokens, 1), self.ground_truth], 1)\n",
    "    \n",
    "    # Use the embedding layer defined before to lookup embedings for ground_truth_as_input. \n",
    "    self.ground_truth_embedded = tf.nn.embedding_lookup(self.embeddings,ground_truth_as_input)######### YOUR CODE HERE #############\n",
    "     \n",
    "    # Create TrainingHelper for the train stage.\n",
    "    train_helper = tf.contrib.seq2seq.TrainingHelper(self.ground_truth_embedded , \n",
    "                                                     self.ground_truth_lengths)\n",
    "    \n",
    "    # Create GreedyEmbeddingHelper for the inference stage.\n",
    "    # You should provide the embedding layer, start_tokens and index of the end symbol.\n",
    "    infer_helper = tf.contrib.seq2seq.GreedyEmbeddingHelper(self.embeddings,start_tokens,end_symbol_id)\n",
    "    \n",
    "  \n",
    "    def decode(helper, scope, reuse=None):\n",
    "        \"\"\"Creates decoder and return the results of the decoding with a given helper.\"\"\"\n",
    "        \n",
    "        with tf.variable_scope(scope, reuse=reuse):\n",
    "            # Create GRUCell with dropout. Do not forget to set the reuse flag properly.\n",
    "            decoder_cell = tf.nn.rnn_cell.GRUCell(hidden_size) ######### YOUR CODE HERE #############\n",
    "            decoder_cell = tf.nn.rnn_cell.DropoutWrapper(decoder_cell, self.dropout_ph)######### YOUR CODE HERE #############\n",
    "            \n",
    "            # Create a projection wrapper.\n",
    "            decoder_cell = tf.contrib.rnn.OutputProjectionWrapper(decoder_cell, vocab_size, reuse=reuse)\n",
    "            \n",
    "            # Create BasicDecoder, pass the defined cell, a helper, and initial state.\n",
    "            # The initial state should be equal to the final state of the encoder!\n",
    "            decoder = tf.contrib.seq2seq.BasicDecoder(cell=decoder_cell,helper=helper,initial_state=self.final_encoder_state)\n",
    "            # The first returning argument of dynamic_decode contains two fields:\n",
    "            #   rnn_output (predicted logits)\n",
    "            #   sample_id (predictions)\n",
    "            outputs, _, _ = tf.contrib.seq2seq.dynamic_decode(decoder=decoder, maximum_iterations=max_iter, \n",
    "                                                              output_time_major=False, impute_finished=True)\n",
    "\n",
    "            return outputs\n",
    "        \n",
    "    self.train_outputs = decode(train_helper, 'decode')\n",
    "    self.infer_outputs = decode(infer_helper, 'decode', reuse=True)"
   ]
  },
  {
   "cell_type": "code",
   "execution_count": 98,
   "metadata": {
    "collapsed": true
   },
   "outputs": [],
   "source": [
    "Seq2SeqModel.__build_decoder = classmethod(build_decoder)"
   ]
  },
  {
   "cell_type": "markdown",
   "metadata": {},
   "source": [
    "In this task we will use [sequence_loss](https://www.tensorflow.org/api_docs/python/tf/contrib/seq2seq/sequence_loss), which is a weighted cross-entropy loss for a sequence of logits. Take a moment to understand, what is your train logits and targets. Also note, that we do not want to take into account loss terms coming from padding symbols, so we will mask the out using weights.  "
   ]
  },
  {
   "cell_type": "code",
   "execution_count": 99,
   "metadata": {
    "collapsed": true
   },
   "outputs": [],
   "source": [
    "def compute_loss(self):\n",
    "    \"\"\"Computes sequence loss (masked cross-entopy loss with logits).\"\"\"\n",
    "    \n",
    "    weights = tf.cast(tf.sequence_mask(self.ground_truth_lengths), dtype=tf.float32)\n",
    "    \n",
    "    self.loss = tf.contrib.seq2seq.sequence_loss(self.train_outputs.rnn_output,self.ground_truth,weights)"
   ]
  },
  {
   "cell_type": "code",
   "execution_count": 100,
   "metadata": {
    "collapsed": true
   },
   "outputs": [],
   "source": [
    "Seq2SeqModel.__compute_loss = classmethod(compute_loss)"
   ]
  },
  {
   "cell_type": "markdown",
   "metadata": {},
   "source": [
    "The last thing to specify is the optimization of the defined loss. \n",
    "We suggest that you use [optimize_loss](https://www.tensorflow.org/api_docs/python/tf/contrib/layers/optimize_loss) with Adam optimizer and a learning rate from the corresponding placeholder. You might also need to pass global step (e.g. as tf.train.get_global_step()) and clip gradients by 1.0."
   ]
  },
  {
   "cell_type": "code",
   "execution_count": 101,
   "metadata": {
    "collapsed": true
   },
   "outputs": [],
   "source": [
    "def perform_optimization(self):\n",
    "    \"\"\"Specifies train_op that optimizes self.loss.\"\"\"\n",
    "    \n",
    "    self.train_op = tf.contrib.layers.optimize_loss(\n",
    "        self.loss, tf.train.get_global_step(),\n",
    "        optimizer='Adam',\n",
    "        learning_rate=self.learning_rate_ph,\n",
    "        summaries=['loss', 'learning_rate'])"
   ]
  },
  {
   "cell_type": "code",
   "execution_count": 102,
   "metadata": {
    "collapsed": true
   },
   "outputs": [],
   "source": [
    "Seq2SeqModel.__perform_optimization = classmethod(perform_optimization)"
   ]
  },
  {
   "cell_type": "markdown",
   "metadata": {},
   "source": [
    "Congratulations! You have specified all the parts of your network. You may have noticed, that we didn't deal with any real data yet, so what you have written is just recipies on how the network should function.\n",
    "Now we will put them to the constructor of our Seq2SeqModel class to use it in the next section. "
   ]
  },
  {
   "cell_type": "code",
   "execution_count": 103,
   "metadata": {
    "collapsed": true
   },
   "outputs": [],
   "source": [
    "def init_model(self, vocab_size, embeddings_size, hidden_size, \n",
    "               max_iter, start_symbol_id, end_symbol_id, padding_symbol_id):\n",
    "    \n",
    "    self.__declare_placeholders()\n",
    "    self.__create_embeddings(vocab_size, embeddings_size)\n",
    "    self.__build_encoder(hidden_size)\n",
    "    self.__build_decoder(hidden_size, vocab_size, max_iter, start_symbol_id, end_symbol_id)\n",
    "    \n",
    "    # Compute loss and back-propagate.\n",
    "    self.__compute_loss()\n",
    "    self.__perform_optimization()\n",
    "    \n",
    "    # Get predictions for evaluation.\n",
    "    self.train_predictions = self.train_outputs.sample_id\n",
    "    self.infer_predictions = self.infer_outputs.sample_id"
   ]
  },
  {
   "cell_type": "code",
   "execution_count": 104,
   "metadata": {
    "collapsed": true
   },
   "outputs": [],
   "source": [
    "Seq2SeqModel.__init__ = classmethod(init_model)"
   ]
  },
  {
   "cell_type": "markdown",
   "metadata": {},
   "source": [
    "## Train the network and predict output\n",
    "\n",
    "[Session.run](https://www.tensorflow.org/api_docs/python/tf/Session#run) is a point which initiates computations in the graph that we have defined. To train the network, we need to compute *self.train_op*. To predict output, we just need to compute *self.infer_predictions*. In any case, we need to feed actual data through the placeholders that we defined above. "
   ]
  },
  {
   "cell_type": "code",
   "execution_count": 105,
   "metadata": {
    "collapsed": true
   },
   "outputs": [],
   "source": [
    "def train_on_batch(self, session, X, X_seq_len, Y, Y_seq_len, learning_rate, dropout_keep_probability):\n",
    "    feed_dict = {\n",
    "            self.input_batch: X,\n",
    "            self.input_batch_lengths: X_seq_len,\n",
    "            self.ground_truth: Y,\n",
    "            self.ground_truth_lengths: Y_seq_len,\n",
    "            self.learning_rate_ph: learning_rate,\n",
    "            self.dropout_ph: dropout_keep_probability\n",
    "        }\n",
    "    pred, loss, _ = session.run([\n",
    "            self.train_predictions,\n",
    "            self.loss,\n",
    "            self.train_op], feed_dict=feed_dict)\n",
    "    return pred, loss"
   ]
  },
  {
   "cell_type": "code",
   "execution_count": 106,
   "metadata": {
    "collapsed": true
   },
   "outputs": [],
   "source": [
    "Seq2SeqModel.train_on_batch = classmethod(train_on_batch)"
   ]
  },
  {
   "cell_type": "markdown",
   "metadata": {},
   "source": [
    "We implemented two predictions functions: *predict_for_batch* and *predict_for_batch_with_loss*. The first one allows only to predict output for some input sequence, while the second one could compute loss because we provide also ground truth values. Both these functions might be useful since the first one could be used for predicting only, and the second one is helpful for validating results on not-training data during the training."
   ]
  },
  {
   "cell_type": "code",
   "execution_count": 107,
   "metadata": {
    "collapsed": true
   },
   "outputs": [],
   "source": [
    "def predict_for_batch(self, session, X, X_seq_len):\n",
    "    feed_dict = {self.input_batch: X,\n",
    "                 self.input_batch_lengths: X_seq_len}\n",
    "    pred = session.run([\n",
    "            self.infer_predictions\n",
    "        ], feed_dict=feed_dict)[0]\n",
    "    return pred\n",
    "\n",
    "def predict_for_batch_with_loss(self, session, X, X_seq_len, Y, Y_seq_len):\n",
    "    feed_dict = {self.input_batch: X,\n",
    "                 self.input_batch_lengths: X_seq_len,\n",
    "                 self.ground_truth: Y,\n",
    "                    self.ground_truth_lengths: Y_seq_len}\n",
    "    pred, loss = session.run([\n",
    "            self.infer_predictions,\n",
    "            self.loss,\n",
    "        ], feed_dict=feed_dict)\n",
    "    return pred, loss"
   ]
  },
  {
   "cell_type": "code",
   "execution_count": 108,
   "metadata": {
    "collapsed": true
   },
   "outputs": [],
   "source": [
    "Seq2SeqModel.predict_for_batch = classmethod(predict_for_batch)\n",
    "Seq2SeqModel.predict_for_batch_with_loss = classmethod(predict_for_batch_with_loss)"
   ]
  },
  {
   "cell_type": "markdown",
   "metadata": {},
   "source": [
    "## Run your experiment\n",
    "\n",
    "Create *Seq2SeqModel* model with the following parameters:\n",
    " - *vocab_size* — number of tokens;\n",
    " - *embeddings_size* — dimension of embeddings, recommended value: 20;\n",
    " - *max_iter* — maximum number of steps in decoder, recommended value: 7;\n",
    " - *hidden_size* — size of hidden layers for RNN, recommended value: 512;\n",
    " - *start_symbol_id* — an index of the start token (`^`).\n",
    " - *end_symbol_id* — an index of the end token (`$`).\n",
    " - *padding_symbol_id* — an index of the padding token (`#`).\n",
    "\n",
    "Set hyperparameters. You might want to start with the following values and see how it works:\n",
    "- *batch_size*: 128;\n",
    "- at least 10 epochs;\n",
    "- value of *learning_rate*: 0.001\n",
    "- *dropout_keep_probability* equals to 0.5 for training (typical values for dropout probability are ranging from 0.1 to 0.5);\n",
    "- *max_len*: 20."
   ]
  },
  {
   "cell_type": "code",
   "execution_count": 128,
   "metadata": {
    "collapsed": true
   },
   "outputs": [],
   "source": [
    "tf.reset_default_graph()\n",
    "\n",
    "model = Seq2SeqModel(len(word2id),20, 512, \n",
    "               7, word2id['^'], word2id['$'],word2id['#'])\n",
    "\n",
    "batch_size = 128######### YOUR CODE HERE #############\n",
    "n_epochs = 50######### YOUR CODE HERE #############\n",
    "learning_rate =0.002 ######### YOUR CODE HERE #############\n",
    "dropout_keep_probability =0.5 ######### YOUR CODE HERE #############\n",
    "max_len = 20######### YOUR CODE HERE #############\n",
    "\n",
    "n_step = int(len(train_set) / batch_size)"
   ]
  },
  {
   "cell_type": "markdown",
   "metadata": {},
   "source": [
    "Finally, we are ready to run the training! A good indicator that everything works fine is decreasing loss during the training. You should account on the loss value equal to approximately 2.7 at the beginning of the training and near 1 after the 10th epoch."
   ]
  },
  {
   "cell_type": "code",
   "execution_count": 129,
   "metadata": {
    "collapsed": true,
    "scrolled": true
   },
   "outputs": [
    {
     "name": "stdout",
     "output_type": "stream",
     "text": [
      "Start training... \n",
      "\n",
      "Train: epoch 1\n",
      "Epoch: [1/50], step: [1/625], loss: 2.712198\n",
      "Test: epoch 1 loss: 1.4503\n",
      "X: 2769-6188$\n",
      "Y: -3419$\n",
      "O: -3505$\n",
      "\n",
      "X: 793-1511$#\n",
      "Y: -718$#\n",
      "O: -166$^\n",
      "\n",
      "X: 9139+7319$\n",
      "Y: 16458$\n",
      "O: 16000$\n",
      "\n",
      "Train: epoch 2\n",
      "Epoch: [2/50], step: [1/625], loss: 1.488474\n",
      "Test: epoch 2 loss: 1.30596\n",
      "X: 4931+551$#\n",
      "Y: 5482$#\n",
      "O: 5700$^\n",
      "\n",
      "X: 9030+1656$\n",
      "Y: 10686$\n",
      "O: 10755$\n",
      "\n",
      "X: 8868+5223$\n",
      "Y: 14091$\n",
      "O: 14110$\n",
      "\n",
      "Train: epoch 3\n",
      "Epoch: [3/50], step: [1/625], loss: 1.348895\n",
      "Test: epoch 3 loss: 1.21053\n",
      "X: 5571-502$#\n",
      "Y: 5069$#\n",
      "O: 5209$^\n",
      "\n",
      "X: 2089-7910$\n",
      "Y: -5821$\n",
      "O: -5639$\n",
      "\n",
      "X: 6431-5631$\n",
      "Y: 800$##\n",
      "O: 1023$^\n",
      "\n",
      "Train: epoch 4\n",
      "Epoch: [4/50], step: [1/625], loss: 1.242823\n",
      "Test: epoch 4 loss: 1.09855\n",
      "X: 287-9452$#\n",
      "Y: -9165$\n",
      "O: -9099$\n",
      "\n",
      "X: 6912+8969$\n",
      "Y: 15881$\n",
      "O: 15900$\n",
      "\n",
      "X: 1499-8868$\n",
      "Y: -7369$\n",
      "O: -7288$\n",
      "\n",
      "Train: epoch 5\n",
      "Epoch: [5/50], step: [1/625], loss: 1.151847\n",
      "Test: epoch 5 loss: 0.98879\n",
      "X: 8644+8786$\n",
      "Y: 17430$\n",
      "O: 17419$\n",
      "\n",
      "X: 335+1602$#\n",
      "Y: 1937$#\n",
      "O: 1891$^\n",
      "\n",
      "X: 3150-2101$\n",
      "Y: 1049$#\n",
      "O: 952$^^\n",
      "\n",
      "Train: epoch 6\n",
      "Epoch: [6/50], step: [1/625], loss: 1.032570\n",
      "Test: epoch 6 loss: 0.943043\n",
      "X: 8633+4146$\n",
      "Y: 12779$\n",
      "O: 12822$\n",
      "\n",
      "X: 2391+3264$\n",
      "Y: 5655$#\n",
      "O: 5655$^\n",
      "\n",
      "X: 5064-1080$\n",
      "Y: 3984$#\n",
      "O: 3995$^\n",
      "\n",
      "Train: epoch 7\n",
      "Epoch: [7/50], step: [1/625], loss: 0.962987\n",
      "Test: epoch 7 loss: 0.90324\n",
      "X: 3771-9763$\n",
      "Y: -5992$\n",
      "O: -5007$\n",
      "\n",
      "X: 772-9709$#\n",
      "Y: -8937$\n",
      "O: -9009$\n",
      "\n",
      "X: 7844-1028$\n",
      "Y: 6816$#\n",
      "O: 6780$^\n",
      "\n",
      "Train: epoch 8\n",
      "Epoch: [8/50], step: [1/625], loss: 0.905125\n",
      "Test: epoch 8 loss: 0.864971\n",
      "X: 2151-3152$\n",
      "Y: -1001$\n",
      "O: -1020$\n",
      "\n",
      "X: 9011+7536$\n",
      "Y: 16547$\n",
      "O: 16591$\n",
      "\n",
      "X: 5166-1560$\n",
      "Y: 3606$#\n",
      "O: 3591$^\n",
      "\n",
      "Train: epoch 9\n",
      "Epoch: [9/50], step: [1/625], loss: 0.928343\n",
      "Test: epoch 9 loss: 0.842203\n",
      "X: 7430+1508$\n",
      "Y: 8938$#\n",
      "O: 8955$^\n",
      "\n",
      "X: 3762+3377$\n",
      "Y: 7139$#\n",
      "O: 7137$^\n",
      "\n",
      "X: 4744-8467$\n",
      "Y: -3723$\n",
      "O: -3738$\n",
      "\n",
      "Train: epoch 10\n",
      "Epoch: [10/50], step: [1/625], loss: 0.855018\n",
      "Test: epoch 10 loss: 0.801366\n",
      "X: 8588+8813$\n",
      "Y: 17401$\n",
      "O: 17388$\n",
      "\n",
      "X: 1123-7097$\n",
      "Y: -5974$\n",
      "O: -5969$\n",
      "\n",
      "X: 7124-2795$\n",
      "Y: 4329$#\n",
      "O: 4369$^\n",
      "\n",
      "Train: epoch 11\n",
      "Epoch: [11/50], step: [1/625], loss: 0.783231\n",
      "Test: epoch 11 loss: 0.726609\n",
      "X: 5356+7794$\n",
      "Y: 13150$\n",
      "O: 13158$\n",
      "\n",
      "X: 3836-7215$\n",
      "Y: -3379$\n",
      "O: -3383$\n",
      "\n",
      "X: 8102+8141$\n",
      "Y: 16243$\n",
      "O: 16239$\n",
      "\n",
      "Train: epoch 12\n",
      "Epoch: [12/50], step: [1/625], loss: 0.777647\n",
      "Test: epoch 12 loss: 0.642477\n",
      "X: 2306-1949$\n",
      "Y: 357$##\n",
      "O: 352$^^\n",
      "\n",
      "X: 8548+6538$\n",
      "Y: 15086$\n",
      "O: 15082$\n",
      "\n",
      "X: 1638-8476$\n",
      "Y: -6838$\n",
      "O: -6837$\n",
      "\n",
      "Train: epoch 13\n",
      "Epoch: [13/50], step: [1/625], loss: 0.683402\n",
      "Test: epoch 13 loss: 0.592454\n",
      "X: 4950-2182$\n",
      "Y: 2768$#\n",
      "O: 2769$^\n",
      "\n",
      "X: 1285+1612$\n",
      "Y: 2897$#\n",
      "O: 2802$^\n",
      "\n",
      "X: 9198+2861$\n",
      "Y: 12059$\n",
      "O: 12066$\n",
      "\n",
      "Train: epoch 14\n",
      "Epoch: [14/50], step: [1/625], loss: 0.628779\n",
      "Test: epoch 14 loss: 0.591256\n",
      "X: 4200+6682$\n",
      "Y: 10882$\n",
      "O: 10881$\n",
      "\n",
      "X: 6352+9316$\n",
      "Y: 15668$\n",
      "O: 15669$\n",
      "\n",
      "X: 4488-716$#\n",
      "Y: 3772$#\n",
      "O: 3771$^\n",
      "\n",
      "Train: epoch 15\n",
      "Epoch: [15/50], step: [1/625], loss: 0.571528\n",
      "Test: epoch 15 loss: 0.568223\n",
      "X: 1929+7556$\n",
      "Y: 9485$#\n",
      "O: 9483$^\n",
      "\n",
      "X: 5033-1885$\n",
      "Y: 3148$#\n",
      "O: 3152$^\n",
      "\n",
      "X: 4704-3510$\n",
      "Y: 1194$#\n",
      "O: 1198$^\n",
      "\n",
      "Train: epoch 16\n",
      "Epoch: [16/50], step: [1/625], loss: 0.551311\n",
      "Test: epoch 16 loss: 0.523569\n",
      "X: 8143+5479$\n",
      "Y: 13622$\n",
      "O: 13622$\n",
      "\n",
      "X: 1999-3951$\n",
      "Y: -1952$\n",
      "O: -1952$\n",
      "\n",
      "X: 7767-8798$\n",
      "Y: -1031$\n",
      "O: -1025$\n",
      "\n",
      "Train: epoch 17\n",
      "Epoch: [17/50], step: [1/625], loss: 0.499711\n",
      "Test: epoch 17 loss: 0.526129\n",
      "X: 7787+5625$\n",
      "Y: 13412$\n",
      "O: 13411$\n",
      "\n",
      "X: 8567-6516$\n",
      "Y: 2051$#\n",
      "O: 2053$^\n",
      "\n",
      "X: 5818+8162$\n",
      "Y: 13980$\n",
      "O: 13983$\n",
      "\n",
      "Train: epoch 18\n",
      "Epoch: [18/50], step: [1/625], loss: 0.473482\n",
      "Test: epoch 18 loss: 0.550257\n",
      "X: 7636+6823$\n",
      "Y: 14459$\n",
      "O: 14461$\n",
      "\n",
      "X: 3175-8542$\n",
      "Y: -5367$\n",
      "O: -5369$\n",
      "\n",
      "X: 2942-630$#\n",
      "Y: 2312$#\n",
      "O: 2320$^\n",
      "\n",
      "Train: epoch 19\n",
      "Epoch: [19/50], step: [1/625], loss: 0.453569\n",
      "Test: epoch 19 loss: 0.572868\n",
      "X: 5032-5110$\n",
      "Y: -78$##\n",
      "O: -80$^^\n",
      "\n",
      "X: 4506-4172$\n",
      "Y: 334$##\n",
      "O: 330$^^\n",
      "\n",
      "X: 3166-97$##\n",
      "Y: 3069$#\n",
      "O: 2982$^\n",
      "\n",
      "Train: epoch 20\n",
      "Epoch: [20/50], step: [1/625], loss: 0.472770\n",
      "Test: epoch 20 loss: 0.541403\n",
      "X: 7070-417$#\n",
      "Y: 6653$#\n",
      "O: 6648$^\n",
      "\n",
      "X: 6980-6669$\n",
      "Y: 311$##\n",
      "O: 315$^^\n",
      "\n",
      "X: 1568-1807$\n",
      "Y: -239$#\n",
      "O: -242$^\n",
      "\n",
      "Train: epoch 21\n",
      "Epoch: [21/50], step: [1/625], loss: 0.423419\n",
      "Test: epoch 21 loss: 0.54461\n",
      "X: 1393-6346$\n",
      "Y: -4953$\n",
      "O: -4949$\n",
      "\n",
      "X: 6776-2089$\n",
      "Y: 4687$#\n",
      "O: 4688$^\n",
      "\n",
      "X: 1152+2965$\n",
      "Y: 4117$#\n",
      "O: 4117$^\n",
      "\n",
      "Train: epoch 22\n",
      "Epoch: [22/50], step: [1/625], loss: 0.488662\n",
      "Test: epoch 22 loss: 0.521597\n",
      "X: 5144-2128$\n",
      "Y: 3016$#\n",
      "O: 3015$^\n",
      "\n",
      "X: 7580-177$#\n",
      "Y: 7403$#\n",
      "O: 7399$^\n",
      "\n",
      "X: 8711-3678$\n",
      "Y: 5033$#\n",
      "O: 5037$^\n",
      "\n",
      "Train: epoch 23\n",
      "Epoch: [23/50], step: [1/625], loss: 0.367222\n",
      "Test: epoch 23 loss: 0.506434\n",
      "X: 820+3414$#\n",
      "Y: 4234$#\n",
      "O: 4235$^\n",
      "\n",
      "X: 8645-4171$\n",
      "Y: 4474$#\n",
      "O: 4472$^\n",
      "\n",
      "X: 3423-5269$\n",
      "Y: -1846$\n",
      "O: -1844$\n",
      "\n",
      "Train: epoch 24\n",
      "Epoch: [24/50], step: [1/625], loss: 0.419518\n",
      "Test: epoch 24 loss: 0.506639\n",
      "X: 1115+2275$\n",
      "Y: 3390$#\n",
      "O: 3394$^\n",
      "\n",
      "X: 4340-1696$\n",
      "Y: 2644$#\n",
      "O: 2645$^\n",
      "\n",
      "X: 6361+4331$\n",
      "Y: 10692$\n",
      "O: 10694$\n",
      "\n",
      "Train: epoch 25\n",
      "Epoch: [25/50], step: [1/625], loss: 0.427348\n",
      "Test: epoch 25 loss: 0.460317\n",
      "X: 6511+7378$\n",
      "Y: 13889$\n",
      "O: 13890$\n",
      "\n",
      "X: 7986+5225$\n",
      "Y: 13211$\n",
      "O: 13210$\n",
      "\n",
      "X: 2680+8448$\n",
      "Y: 11128$\n",
      "O: 11129$\n",
      "\n",
      "Train: epoch 26\n",
      "Epoch: [26/50], step: [1/625], loss: 0.403949\n",
      "Test: epoch 26 loss: 0.479187\n",
      "X: 9868-2333$\n",
      "Y: 7535$#\n",
      "O: 7537$^\n",
      "\n",
      "X: 7844+5635$\n",
      "Y: 13479$\n",
      "O: 13480$\n",
      "\n",
      "X: 7440-8810$\n",
      "Y: -1370$\n",
      "O: -1371$\n",
      "\n",
      "Train: epoch 27\n",
      "Epoch: [27/50], step: [1/625], loss: 0.293346\n",
      "Test: epoch 27 loss: 0.412838\n",
      "X: 447+1225$#\n",
      "Y: 1672$#\n",
      "O: 1674$^\n",
      "\n",
      "X: 5186+2661$\n",
      "Y: 7847$#\n",
      "O: 7847$^\n",
      "\n",
      "X: 4610+1437$\n",
      "Y: 6047$#\n",
      "O: 6047$^\n",
      "\n",
      "Train: epoch 28\n",
      "Epoch: [28/50], step: [1/625], loss: 0.270485\n",
      "Test: epoch 28 loss: 0.426927\n",
      "X: 5576+3508$\n",
      "Y: 9084$#\n",
      "O: 9084$^\n",
      "\n",
      "X: 1761-6868$\n",
      "Y: -5107$\n",
      "O: -5106$\n",
      "\n",
      "X: 6949-3073$\n",
      "Y: 3876$#\n",
      "O: 3876$^\n",
      "\n",
      "Train: epoch 29\n",
      "Epoch: [29/50], step: [1/625], loss: 0.233151\n",
      "Test: epoch 29 loss: 0.378895\n",
      "X: 7430-6268$\n",
      "Y: 1162$#\n",
      "O: 1162$^\n",
      "\n",
      "X: 7787-2857$\n",
      "Y: 4930$#\n",
      "O: 4930$^\n",
      "\n",
      "X: 5035+4824$\n",
      "Y: 9859$#\n",
      "O: 9860$^\n",
      "\n",
      "Train: epoch 30\n",
      "Epoch: [30/50], step: [1/625], loss: 0.197739\n",
      "Test: epoch 30 loss: 0.31783\n",
      "X: 6802-3717$\n",
      "Y: 3085$#\n",
      "O: 3085$^\n",
      "\n",
      "X: 480-6634$#\n",
      "Y: -6154$\n",
      "O: -6154$\n",
      "\n",
      "X: 1243+7460$\n",
      "Y: 8703$#\n",
      "O: 8703$^\n",
      "\n",
      "Train: epoch 31\n",
      "Epoch: [31/50], step: [1/625], loss: 0.195488\n",
      "Test: epoch 31 loss: 0.315048\n",
      "X: 6993-4315$\n",
      "Y: 2678$#\n",
      "O: 2681$^\n",
      "\n",
      "X: 6851+3926$\n",
      "Y: 10777$\n",
      "O: 10777$\n",
      "\n",
      "X: 2644+5966$\n",
      "Y: 8610$#\n",
      "O: 8610$^\n",
      "\n",
      "Train: epoch 32\n",
      "Epoch: [32/50], step: [1/625], loss: 0.194605\n",
      "Test: epoch 32 loss: 0.266578\n",
      "X: 4275-480$#\n",
      "Y: 3795$#\n",
      "O: 3795$^\n",
      "\n",
      "X: 5120+9807$\n",
      "Y: 14927$\n",
      "O: 14928$\n",
      "\n",
      "X: 6358+1876$\n",
      "Y: 8234$#\n",
      "O: 8234$^\n",
      "\n",
      "Train: epoch 33\n",
      "Epoch: [33/50], step: [1/625], loss: 0.136473\n",
      "Test: epoch 33 loss: 0.230512\n",
      "X: 5961+6304$\n",
      "Y: 12265$\n",
      "O: 12265$\n",
      "\n",
      "X: 9259-2229$\n",
      "Y: 7030$#\n",
      "O: 7020$^\n",
      "\n",
      "X: 9763-7526$\n",
      "Y: 2237$#\n",
      "O: 2237$^\n",
      "\n",
      "Train: epoch 34\n",
      "Epoch: [34/50], step: [1/625], loss: 0.203426\n",
      "Test: epoch 34 loss: 0.306852\n",
      "X: 55-8984$##\n",
      "Y: -8929$\n",
      "O: -8931$\n",
      "\n",
      "X: 1867-8880$\n",
      "Y: -7013$\n",
      "O: -7013$\n",
      "\n",
      "X: 1685+9077$\n",
      "Y: 10762$\n",
      "O: 10763$\n",
      "\n",
      "Train: epoch 35\n",
      "Epoch: [35/50], step: [1/625], loss: 0.176563\n",
      "Test: epoch 35 loss: 0.317748\n",
      "X: 4096-8060$\n",
      "Y: -3964$\n",
      "O: -3965$\n",
      "\n",
      "X: 8729-313$#\n",
      "Y: 8416$#\n",
      "O: 8411$^\n",
      "\n",
      "X: 5706-4646$\n",
      "Y: 1060$#\n",
      "O: 1059$^\n",
      "\n",
      "Train: epoch 36\n",
      "Epoch: [36/50], step: [1/625], loss: 0.163231\n",
      "Test: epoch 36 loss: 0.256752\n",
      "X: 8609+5706$\n",
      "Y: 14315$\n",
      "O: 14314$\n",
      "\n",
      "X: 8342+820$#\n",
      "Y: 9162$#\n",
      "O: 9165$^\n",
      "\n",
      "X: 4526-4897$\n",
      "Y: -371$#\n",
      "O: -370$^\n",
      "\n",
      "Train: epoch 37\n",
      "Epoch: [37/50], step: [1/625], loss: 0.121717\n",
      "Test: epoch 37 loss: 0.239754\n",
      "X: 3261+7338$\n",
      "Y: 10599$\n",
      "O: 10600$\n",
      "\n",
      "X: 8120-1367$\n",
      "Y: 6753$#\n",
      "O: 6753$^\n",
      "\n",
      "X: 6158-5261$\n",
      "Y: 897$##\n",
      "O: 897$^^\n",
      "\n",
      "Train: epoch 38\n",
      "Epoch: [38/50], step: [1/625], loss: 0.227581\n",
      "Test: epoch 38 loss: 0.190695\n",
      "X: 8270-8831$\n",
      "Y: -561$#\n",
      "O: -561$^\n",
      "\n",
      "X: 7548-2253$\n",
      "Y: 5295$#\n",
      "O: 5295$^\n",
      "\n",
      "X: 9947-7509$\n",
      "Y: 2438$#\n",
      "O: 2438$^\n",
      "\n",
      "Train: epoch 39\n",
      "Epoch: [39/50], step: [1/625], loss: 0.130427\n",
      "Test: epoch 39 loss: 0.196468\n",
      "X: 8914+4500$\n",
      "Y: 13414$\n",
      "O: 13414$\n",
      "\n",
      "X: 8929+6885$\n",
      "Y: 15814$\n",
      "O: 15814$\n",
      "\n",
      "X: 5093-483$#\n",
      "Y: 4610$#\n",
      "O: 4601$^\n",
      "\n",
      "Train: epoch 40\n",
      "Epoch: [40/50], step: [1/625], loss: 0.079704\n",
      "Test: epoch 40 loss: 0.200364\n",
      "X: 7257-7314$\n",
      "Y: -57$##\n",
      "O: -67$^^\n",
      "\n",
      "X: 9853-4382$\n",
      "Y: 5471$#\n",
      "O: 5471$^\n",
      "\n",
      "X: 2633+196$#\n",
      "Y: 2829$#\n",
      "O: 2929$^\n",
      "\n",
      "Train: epoch 41\n",
      "Epoch: [41/50], step: [1/625], loss: 0.129918\n",
      "Test: epoch 41 loss: 0.223263\n",
      "X: 4206+6096$\n",
      "Y: 10302$\n",
      "O: 10302$\n",
      "\n",
      "X: 940-6616$#\n",
      "Y: -5676$\n",
      "O: -5686$\n",
      "\n",
      "X: 1992-1369$\n",
      "Y: 623$##\n",
      "O: 624$^^\n",
      "\n",
      "Train: epoch 42\n",
      "Epoch: [42/50], step: [1/625], loss: 0.082045\n",
      "Test: epoch 42 loss: 0.182056\n",
      "X: 7085+1506$\n",
      "Y: 8591$#\n",
      "O: 8591$^\n",
      "\n",
      "X: 2626-4902$\n",
      "Y: -2276$\n",
      "O: -2276$\n",
      "\n",
      "X: 7309-5751$\n",
      "Y: 1558$#\n",
      "O: 1558$^\n",
      "\n",
      "Train: epoch 43\n",
      "Epoch: [43/50], step: [1/625], loss: 0.088692\n",
      "Test: epoch 43 loss: 0.223636\n",
      "X: 3931-6815$\n",
      "Y: -2884$\n",
      "O: -2884$\n",
      "\n",
      "X: 8160-8656$\n",
      "Y: -496$#\n",
      "O: -496$^\n",
      "\n",
      "X: 9168+5731$\n",
      "Y: 14899$\n",
      "O: 14899$\n",
      "\n",
      "Train: epoch 44\n",
      "Epoch: [44/50], step: [1/625], loss: 0.090885\n",
      "Test: epoch 44 loss: 0.21344\n",
      "X: 5511-3431$\n",
      "Y: 2080$#\n",
      "O: 2080$^\n",
      "\n",
      "X: 611-2151$#\n",
      "Y: -1540$\n",
      "O: -1440$\n",
      "\n",
      "X: 3309+6808$\n",
      "Y: 10117$\n",
      "O: 10117$\n",
      "\n",
      "Train: epoch 45\n",
      "Epoch: [45/50], step: [1/625], loss: 0.089548\n",
      "Test: epoch 45 loss: 0.2093\n",
      "X: 2633+196$#\n",
      "Y: 2829$#\n",
      "O: 2838$^\n",
      "\n",
      "X: 8995-7696$\n",
      "Y: 1299$#\n",
      "O: 1299$^\n",
      "\n",
      "X: 1227+7834$\n",
      "Y: 9061$#\n",
      "O: 9061$^\n",
      "\n",
      "Train: epoch 46\n",
      "Epoch: [46/50], step: [1/625], loss: 0.090598\n",
      "Test: epoch 46 loss: 0.343675\n",
      "X: 7282+297$#\n",
      "Y: 7579$#\n",
      "O: 7579$^\n",
      "\n",
      "X: 4775+4545$\n",
      "Y: 9320$#\n",
      "O: 9321$^\n",
      "\n",
      "X: 6792+235$#\n",
      "Y: 7027$#\n",
      "O: 7028$^\n",
      "\n",
      "Train: epoch 47\n",
      "Epoch: [47/50], step: [1/625], loss: 0.238380\n",
      "Test: epoch 47 loss: 0.174671\n",
      "X: 7912+8065$\n",
      "Y: 15977$\n",
      "O: 15977$\n",
      "\n",
      "X: 2034+7900$\n",
      "Y: 9934$#\n",
      "O: 9934$^\n",
      "\n",
      "X: 4678-7930$\n",
      "Y: -3252$\n",
      "O: -3242$\n",
      "\n",
      "Train: epoch 48\n",
      "Epoch: [48/50], step: [1/625], loss: 0.059302\n",
      "Test: epoch 48 loss: 0.180107\n",
      "X: 2613+5187$\n",
      "Y: 7800$#\n",
      "O: 7800$^\n",
      "\n",
      "X: 8670+5085$\n",
      "Y: 13755$\n",
      "O: 13755$\n",
      "\n",
      "X: 492-9983$#\n",
      "Y: -9491$\n",
      "O: -9590$\n",
      "\n",
      "Train: epoch 49\n",
      "Epoch: [49/50], step: [1/625], loss: 0.092025\n",
      "Test: epoch 49 loss: 0.156189\n",
      "X: 2149+5273$\n",
      "Y: 7422$#\n",
      "O: 7432$^\n",
      "\n",
      "X: 661+850$##\n",
      "Y: 1511$#\n",
      "O: 1511$^\n",
      "\n",
      "X: 816+5626$#\n",
      "Y: 6442$#\n",
      "O: 6442$^\n",
      "\n",
      "Train: epoch 50\n",
      "Epoch: [50/50], step: [1/625], loss: 0.106507\n",
      "Test: epoch 50 loss: 0.141556\n",
      "X: 621+7130$#\n",
      "Y: 7751$#\n",
      "O: 7741$^\n",
      "\n",
      "X: 628-777$##\n",
      "Y: -149$#\n",
      "O: -249$^\n",
      "\n",
      "X: 2015+3805$\n",
      "Y: 5820$#\n",
      "O: 5820$^\n",
      "\n",
      "\n",
      "...training finished.\n"
     ]
    }
   ],
   "source": [
    "session = tf.Session()\n",
    "session.run(tf.global_variables_initializer())\n",
    "            \n",
    "invalid_number_prediction_counts = []\n",
    "all_model_predictions = []\n",
    "all_ground_truth = []\n",
    "\n",
    "print('Start training... \\n')\n",
    "for epoch in range(n_epochs):  \n",
    "    random.shuffle(train_set)\n",
    "    random.shuffle(test_set)\n",
    "    \n",
    "    print('Train: epoch', epoch + 1)\n",
    "    for n_iter, (X_batch, Y_batch) in enumerate(generate_batches(train_set, batch_size=batch_size)):\n",
    "        X,X_len = batch_to_ids(X_batch,word2id,max_len)\n",
    "        Y,Y_len = batch_to_ids(Y_batch,word2id,max_len)\n",
    "        ######################################\n",
    "        ######### YOUR CODE HERE #############\n",
    "        ######################################\n",
    "        # prepare the data (X_batch and Y_batch) for training\n",
    "        # using function batch_to_ids\n",
    "        predictions, loss =  model.train_on_batch(session,X,X_len,Y,Y_len,learning_rate,dropout_keep_probability)\n",
    "        \n",
    "        \n",
    "        if n_iter % 1000 == 0:\n",
    "            print(\"Epoch: [%d/%d], step: [%d/%d], loss: %f\" % (epoch + 1, n_epochs, n_iter + 1, n_step, loss))\n",
    "                \n",
    "    X_sent, Y_sent = next(generate_batches(test_set, batch_size=batch_size))\n",
    "    X,X_len = batch_to_ids(X_sent,word2id,max_len)\n",
    "    Y,Y_len = batch_to_ids(Y_sent,word2id,max_len)\n",
    "    \n",
    "    ######################################\n",
    "    ######### YOUR CODE HERE #############\n",
    "    ######################################\n",
    "    # prepare test data (X_sent and Y_sent) for predicting \n",
    "    # quality and computing value of the loss function\n",
    "    # using function batch_to_ids\n",
    "    \n",
    "    predictions, loss = model.predict_for_batch_with_loss(session,X,X_len,Y,Y_len)\n",
    "    \n",
    "    print('Test: epoch', epoch + 1, 'loss:', loss,)\n",
    "    for x, y, p  in list(zip(X, Y, predictions))[:3]:\n",
    "        print('X:',''.join(ids_to_sentence(x, id2word)))\n",
    "        print('Y:',''.join(ids_to_sentence(y, id2word)))\n",
    "        print('O:',''.join(ids_to_sentence(p, id2word)))\n",
    "        print('')\n",
    "\n",
    "    model_predictions = []\n",
    "    ground_truth = []\n",
    "    invalid_number_prediction_count = 0\n",
    "    # For the whole test set calculate ground-truth values (as integer numbers)\n",
    "    # and prediction values (also as integers) to calculate metrics.\n",
    "    # If generated by model number is not correct (e.g. '1-1'), \n",
    "    # increase err counter and don't append this and corresponding\n",
    "    # ground-truth value to the arrays.\n",
    "    \n",
    "    for X_batch, Y_batch in generate_batches(test_set, batch_size=batch_size):\n",
    "        ######################################\n",
    "        ######### YOUR CODE HERE #############\n",
    "        ######################################\n",
    "        X,X_len = batch_to_ids(X_batch,word2id,max_len)\n",
    "        Y,Y_len = batch_to_ids(Y_batch,word2id,max_len)\n",
    "        ######################################\n",
    "        ######### YOUR CODE HERE #############\n",
    "        ######################################\n",
    "        # prepare the data (X_batch and Y_batch) for training\n",
    "        # using function batch_to_ids\n",
    "        for x,y,p in list(zip(X,Y,model.predict_for_batch(session,X,X_len))):\n",
    "            y_s = ''.join(c for c in ids_to_sentence(y, id2word) if c.isdigit())\n",
    "            p_s = ''.join(c for c in ids_to_sentence(p, id2word) if c.isdigit())\n",
    "            y_s = int(y_s) if y_s != '' else 0\n",
    "            p_s = int(p_s) if p_s != '' else 0\n",
    "            ground_truth.append(y_s)\n",
    "            model_predictions.append(p_s)\n",
    "            if y_s != p_s:\n",
    "                invalid_number_prediction_count = invalid_number_prediction_count + 1\n",
    "    all_model_predictions.append(model_predictions)\n",
    "    all_ground_truth.append(ground_truth)\n",
    "    invalid_number_prediction_counts.append(invalid_number_prediction_count)\n",
    "            \n",
    "print('\\n...training finished.')"
   ]
  },
  {
   "cell_type": "markdown",
   "metadata": {},
   "source": [
    "## Evaluate results\n",
    "\n",
    "Because our task is simple and the output is straight-forward, we will use [MAE](https://en.wikipedia.org/wiki/Mean_absolute_error) metric to evaluate the trained model during the epochs. Compute the value of the metric for the output from each epoch."
   ]
  },
  {
   "cell_type": "code",
   "execution_count": 131,
   "metadata": {
    "collapsed": true
   },
   "outputs": [],
   "source": [
    "from sklearn.metrics import mean_absolute_error"
   ]
  },
  {
   "cell_type": "code",
   "execution_count": 132,
   "metadata": {
    "collapsed": true
   },
   "outputs": [
    {
     "name": "stdout",
     "output_type": "stream",
     "text": [
      "Epoch: 1, MAE: 405.643150, Invalid numbers: 19987\n",
      "Epoch: 2, MAE: 225.180100, Invalid numbers: 19964\n",
      "Epoch: 3, MAE: 131.813000, Invalid numbers: 19954\n",
      "Epoch: 4, MAE: 65.374300, Invalid numbers: 19874\n",
      "Epoch: 5, MAE: 43.548100, Invalid numbers: 19816\n",
      "Epoch: 6, MAE: 34.928450, Invalid numbers: 19765\n",
      "Epoch: 7, MAE: 26.744450, Invalid numbers: 19733\n",
      "Epoch: 8, MAE: 28.291400, Invalid numbers: 19703\n",
      "Epoch: 9, MAE: 22.473450, Invalid numbers: 19608\n",
      "Epoch: 10, MAE: 19.988900, Invalid numbers: 19361\n",
      "Epoch: 11, MAE: 19.826000, Invalid numbers: 19037\n",
      "Epoch: 12, MAE: 14.570150, Invalid numbers: 18641\n",
      "Epoch: 13, MAE: 16.608250, Invalid numbers: 18390\n",
      "Epoch: 14, MAE: 18.130650, Invalid numbers: 18166\n",
      "Epoch: 15, MAE: 12.893750, Invalid numbers: 18129\n",
      "Epoch: 16, MAE: 12.011000, Invalid numbers: 17795\n",
      "Epoch: 17, MAE: 12.080250, Invalid numbers: 17615\n",
      "Epoch: 18, MAE: 11.817000, Invalid numbers: 17363\n",
      "Epoch: 19, MAE: 13.519750, Invalid numbers: 17406\n",
      "Epoch: 20, MAE: 13.721850, Invalid numbers: 17183\n",
      "Epoch: 21, MAE: 11.265900, Invalid numbers: 17029\n",
      "Epoch: 22, MAE: 12.096450, Invalid numbers: 16830\n",
      "Epoch: 23, MAE: 12.497300, Invalid numbers: 16729\n",
      "Epoch: 24, MAE: 12.641450, Invalid numbers: 16293\n",
      "Epoch: 25, MAE: 15.472050, Invalid numbers: 15869\n",
      "Epoch: 26, MAE: 15.346100, Invalid numbers: 14945\n",
      "Epoch: 27, MAE: 19.835400, Invalid numbers: 13822\n",
      "Epoch: 28, MAE: 14.142750, Invalid numbers: 12504\n",
      "Epoch: 29, MAE: 30.290100, Invalid numbers: 11471\n",
      "Epoch: 30, MAE: 18.632250, Invalid numbers: 10639\n",
      "Epoch: 31, MAE: 13.787800, Invalid numbers: 9648\n",
      "Epoch: 32, MAE: 15.765000, Invalid numbers: 8909\n",
      "Epoch: 33, MAE: 25.689500, Invalid numbers: 8535\n",
      "Epoch: 34, MAE: 14.512400, Invalid numbers: 8104\n",
      "Epoch: 35, MAE: 23.207400, Invalid numbers: 8218\n",
      "Epoch: 36, MAE: 15.428000, Invalid numbers: 6974\n",
      "Epoch: 37, MAE: 22.181850, Invalid numbers: 7005\n",
      "Epoch: 38, MAE: 17.871550, Invalid numbers: 6405\n",
      "Epoch: 39, MAE: 17.267850, Invalid numbers: 6183\n",
      "Epoch: 40, MAE: 15.911400, Invalid numbers: 5768\n",
      "Epoch: 41, MAE: 16.549250, Invalid numbers: 5604\n",
      "Epoch: 42, MAE: 15.964500, Invalid numbers: 5705\n",
      "Epoch: 43, MAE: 15.793950, Invalid numbers: 5677\n",
      "Epoch: 44, MAE: 16.156100, Invalid numbers: 5014\n",
      "Epoch: 45, MAE: 22.660300, Invalid numbers: 5290\n",
      "Epoch: 46, MAE: 69.372650, Invalid numbers: 7032\n",
      "Epoch: 47, MAE: 15.414100, Invalid numbers: 4589\n",
      "Epoch: 48, MAE: 19.169700, Invalid numbers: 4555\n",
      "Epoch: 49, MAE: 16.006800, Invalid numbers: 4673\n",
      "Epoch: 50, MAE: 16.022850, Invalid numbers: 4454\n"
     ]
    }
   ],
   "source": [
    "for i, (gts, predictions, invalid_number_prediction_count) in enumerate(zip(all_ground_truth,\n",
    "                                                                            all_model_predictions,\n",
    "                                                                            invalid_number_prediction_counts), 1):\n",
    "    mae = mean_absolute_error(gts,predictions)\n",
    "    print(\"Epoch: %i, MAE: %f, Invalid numbers: %i\" % (i, mae, invalid_number_prediction_count))"
   ]
  },
  {
   "cell_type": "code",
   "execution_count": 123,
   "metadata": {},
   "outputs": [
    {
     "data": {
      "text/plain": [
       "[6828, 13923, 1574, 5118, 794, 1166, 14448, 12861, 4458, 2374]"
      ]
     },
     "execution_count": 123,
     "metadata": {},
     "output_type": "execute_result"
    }
   ],
   "source": [
    "gts[:10]"
   ]
  },
  {
   "cell_type": "code",
   "execution_count": 122,
   "metadata": {},
   "outputs": [
    {
     "data": {
      "text/plain": [
       "[6828, 13933, 1551, 5155, 811, 1122, 14458, 12851, 4498, 2411]"
      ]
     },
     "execution_count": 122,
     "metadata": {},
     "output_type": "execute_result"
    }
   ],
   "source": [
    "predictions[:10]"
   ]
  },
  {
   "cell_type": "code",
   "execution_count": 121,
   "metadata": {},
   "outputs": [
    {
     "data": {
      "text/plain": [
       "20000"
      ]
     },
     "execution_count": 121,
     "metadata": {},
     "output_type": "execute_result"
    }
   ],
   "source": [
    "len(gts)"
   ]
  },
  {
   "cell_type": "code",
   "execution_count": null,
   "metadata": {},
   "outputs": [],
   "source": []
  }
 ],
 "metadata": {
  "kernelspec": {
   "display_name": "Python 3",
   "language": "python",
   "name": "python3"
  },
  "language_info": {
   "codemirror_mode": {
    "name": "ipython",
    "version": 3
   },
   "file_extension": ".py",
   "mimetype": "text/x-python",
   "name": "python",
   "nbconvert_exporter": "python",
   "pygments_lexer": "ipython3",
   "version": "3.6.2"
  }
 },
 "nbformat": 4,
 "nbformat_minor": 2
}
